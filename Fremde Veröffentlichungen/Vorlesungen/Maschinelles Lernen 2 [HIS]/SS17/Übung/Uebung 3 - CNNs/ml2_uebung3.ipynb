{
 "cells": [
  {
   "cell_type": "markdown",
   "metadata": {},
   "source": [
    "# ML2 Übung 3 - CNNs mit TensorFlow"
   ]
  },
  {
   "cell_type": "markdown",
   "metadata": {},
   "source": [
    "In dieser Übung steht der MNIST Datensatz im Mittelpunkt. Dieser Datensatz enhält eine Klassifikationsaufgabe mit Bildern handschriftlicher Ziffern. Zunächst wird ein einfacher Klassifikator auf dem Datensatz trainiert und evaluiert. Im weiteren Verlauf wird dann ein einfaches CNN zur Klassifikation verwendet."
   ]
  },
  {
   "cell_type": "markdown",
   "metadata": {},
   "source": [
    "## MNIST Klassifikation mit linearer Regression"
   ]
  },
  {
   "cell_type": "markdown",
   "metadata": {},
   "source": [
    "Zunächst werden wie üblich die benötigten Pakete eingebunden."
   ]
  },
  {
   "cell_type": "code",
   "execution_count": 1,
   "metadata": {
    "collapsed": true
   },
   "outputs": [],
   "source": [
    "import matplotlib.pyplot as plt\n",
    "import tensorflow as tf\n",
    "import numpy as np\n",
    "\n",
    "%matplotlib inline"
   ]
  },
  {
   "cell_type": "markdown",
   "metadata": {},
   "source": [
    "Anschließend werden die MNIST Daten importiert. Bei der ersten Ausführung des nachfolgenden Codes wird der Datensatz aus dem Internet heruntergeladen."
   ]
  },
  {
   "cell_type": "code",
   "execution_count": 2,
   "metadata": {
    "collapsed": false
   },
   "outputs": [
    {
     "name": "stdout",
     "output_type": "stream",
     "text": [
      "Successfully downloaded train-images-idx3-ubyte.gz 9912422 bytes.\n",
      "Extracting MNIST_data/train-images-idx3-ubyte.gz\n",
      "Successfully downloaded train-labels-idx1-ubyte.gz 28881 bytes.\n",
      "Extracting MNIST_data/train-labels-idx1-ubyte.gz\n",
      "Successfully downloaded t10k-images-idx3-ubyte.gz 1648877 bytes.\n",
      "Extracting MNIST_data/t10k-images-idx3-ubyte.gz\n",
      "Successfully downloaded t10k-labels-idx1-ubyte.gz 4542 bytes.\n",
      "Extracting MNIST_data/t10k-labels-idx1-ubyte.gz\n"
     ]
    }
   ],
   "source": [
    "# MNIST dataset can be automatically downloaded from within TensorFlow\n",
    "from tensorflow.examples.tutorials.mnist import input_data\n",
    "mnist = input_data.read_data_sets('MNIST_data', one_hot=True)    # labels are encoded as one-hot!"
   ]
  },
  {
   "cell_type": "markdown",
   "metadata": {},
   "source": [
    "Der MNIST Datensatz besteht aus Trainings-, Validierungs- und Testdaten: "
   ]
  },
  {
   "cell_type": "code",
   "execution_count": 102,
   "metadata": {
    "collapsed": false
   },
   "outputs": [
    {
     "name": "stdout",
     "output_type": "stream",
     "text": [
      "Train Set Shape: (55000, 784)\n",
      "Validation Set Shape: (5000, 784)\n",
      "Test Set Shape: (10000, 784)\n"
     ]
    }
   ],
   "source": [
    "print(\"Train Set Shape: \" + str(np.shape(mnist.train.images)))\n",
    "print(\"Validation Set Shape: \" + str(np.shape(mnist.validation.images)))\n",
    "print(\"Test Set Shape: \" + str(np.shape(mnist.test.images)))"
   ]
  },
  {
   "cell_type": "markdown",
   "metadata": {},
   "source": [
    "Wie sehen die Daten von MNIST eigentlich aus? \n",
    "\n",
    "Hier einige Beispiele aus dem Trainingsdatensatz:"
   ]
  },
  {
   "cell_type": "code",
   "execution_count": 103,
   "metadata": {
    "collapsed": false
   },
   "outputs": [
    {
     "data": {
      "image/png": "[encoded data removed]",
      "text/plain": [
       "<matplotlib.figure.Figure at 0x7f09609b7d10>"
      ]
     },
     "metadata": {},
     "output_type": "display_data"
    }
   ],
   "source": [
    "import numpy as np\n",
    "img0 = mnist.train.images[0].reshape([28,28])\n",
    "img1 = mnist.train.images[1].reshape([28,28])\n",
    "img2 = mnist.train.images[2].reshape([28,28])\n",
    "img3 = mnist.train.images[3].reshape([28,28])\n",
    "img4 = mnist.train.images[4].reshape([28,28])\n",
    "plt.imshow(np.concatenate((img0, img1, img2, img3, img4), axis=1))\n",
    "plt.gray()\n",
    "plt.show()"
   ]
  },
  {
   "cell_type": "markdown",
   "metadata": {},
   "source": [
    "Zu den Daten existieren natürlich auch die entsprechenden Labels. Hier die Labels zu den dargestellten Beispielbildern aus dem Trainingsdatensatz:"
   ]
  },
  {
   "cell_type": "code",
   "execution_count": 104,
   "metadata": {
    "collapsed": false
   },
   "outputs": [
    {
     "name": "stdout",
     "output_type": "stream",
     "text": [
      "Train Labels: \n",
      "[[ 0.  0.  0.  0.  0.  0.  0.  1.  0.  0.]\n",
      " [ 0.  0.  0.  1.  0.  0.  0.  0.  0.  0.]\n",
      " [ 0.  0.  0.  0.  1.  0.  0.  0.  0.  0.]\n",
      " [ 0.  0.  0.  0.  0.  0.  1.  0.  0.  0.]\n",
      " [ 0.  1.  0.  0.  0.  0.  0.  0.  0.  0.]]\n"
     ]
    }
   ],
   "source": [
    "print(\"Train Labels: \\n\" + str(mnist.train.labels[0:5]))\n"
   ]
  },
  {
   "cell_type": "markdown",
   "metadata": {},
   "source": [
    "Analog zu Übung 2: Definition des Tensorflow Graphen: "
   ]
  },
  {
   "cell_type": "code",
   "execution_count": 105,
   "metadata": {
    "collapsed": true
   },
   "outputs": [],
   "source": [
    "# Define placeholders for input data and labels (with arbitrary batch size)\n",
    "x = tf.placeholder(tf.float32, shape=[None, 784], name='x')    # input as vector of size 28*28 = 784\n",
    "y = tf.placeholder(tf.float32, shape=[None, 10], name='y')    # labels as numbers 0 - 9\n",
    "\n",
    "# Define variables for the graph and initialize them\n",
    "W = tf.Variable(tf.zeros([784,10]))\n",
    "b = tf.Variable(tf.zeros([10]))\n"
   ]
  },
  {
   "cell_type": "markdown",
   "metadata": {},
   "source": [
    "In diesem Fall wird ein Softmax Loss verwendet:"
   ]
  },
  {
   "cell_type": "code",
   "execution_count": 106,
   "metadata": {
    "collapsed": true
   },
   "outputs": [],
   "source": [
    "with tf.name_scope('Loss') as scope:\n",
    "    y_pred = tf.matmul(x, W) + b\n",
    "    softmax = tf.reduce_mean(tf.nn.softmax_cross_entropy_with_logits(labels=y, logits=y_pred))"
   ]
  },
  {
   "cell_type": "code",
   "execution_count": 107,
   "metadata": {
    "collapsed": true
   },
   "outputs": [],
   "source": [
    "learning_rate = 0.05\n",
    "with tf.name_scope('optimizer') as scope:\n",
    "    optimizer = tf.train.GradientDescentOptimizer(learning_rate).minimize(softmax)"
   ]
  },
  {
   "cell_type": "markdown",
   "metadata": {},
   "source": [
    "Nachdem der Graph definiert wurde, kann nun das Training gestartet werden. Im Gegensatz zu Übung 2 wird an dieser Stelle nicht mehr der gesamte Datensatz in jedem Trainingsschritt verwendet. Pro Schritt wird lediglich ein kleiner Teil der Daten verwendet (auch batch oder min-batch genannt). Im MNIST Beispiel von Tensorflow wird bereits eine Funktion zur Verfügung gestellt, die aus den Trainingsdaten in jedem Trainingsschritt eine definierte Anzahl Bilder bereitstellt."
   ]
  },
  {
   "cell_type": "code",
   "execution_count": 113,
   "metadata": {
    "collapsed": true
   },
   "outputs": [],
   "source": [
    "steps = 2000\n",
    "batch_size = 100\n",
    "init = tf.global_variables_initializer()\n",
    "\n",
    "with tf.Session() as sess:\n",
    "    init.run()\n",
    "    for _ in range(steps):\n",
    "        batch = mnist.train.next_batch(batch_size)\n",
    "        optimizer.run(feed_dict={x: batch[0], y: batch[1]})"
   ]
  },
  {
   "cell_type": "markdown",
   "metadata": {},
   "source": [
    "Nachdem der Klassifikator trainiert wurde, kann er nun auf die Testdaten angewandt werden:"
   ]
  },
  {
   "cell_type": "code",
   "execution_count": 115,
   "metadata": {
    "collapsed": false
   },
   "outputs": [
    {
     "name": "stdout",
     "output_type": "stream",
     "text": [
      "[False False False ..., False False False]\n",
      "Genauigkeit: 0.098\n"
     ]
    }
   ],
   "source": [
    "with tf.Session() as sess:\n",
    "    init.run()\n",
    "    # Define test data to be fed into graph\n",
    "    test_data = { x: mnist.test.images, y: mnist.test.labels }\n",
    "\n",
    "    prediction = tf.argmax(y_pred, 1)\n",
    "    label = tf.argmax(y, 1)\n",
    "\n",
    "    # Calculate whether a prediction is correct or not\n",
    "    correct_prediction = tf.equal(prediction, label)\n",
    "    print(correct_prediction.eval(feed_dict=test_data))\n",
    "    \n",
    "    accuracy = tf.reduce_mean(tf.cast(correct_prediction, tf.float32))\n",
    "    print(\"Klassifikationsrate: \" + str(accuracy.eval(feed_dict=test_data)))"
   ]
  },
  {
   "cell_type": "markdown",
   "metadata": {},
   "source": [
    "Dies entspricht nicht ganz dem erwarteten Ergebnis. Weshalb wird hier ein so schlechtes Ergebnis erreicht? Nachfolgend werden Training und Test des Modells gemeinsam durchgeführt:"
   ]
  },
  {
   "cell_type": "code",
   "execution_count": 116,
   "metadata": {
    "collapsed": false
   },
   "outputs": [
    {
     "name": "stdout",
     "output_type": "stream",
     "text": [
      "[ True  True  True ...,  True  True  True]\n",
      "Genauigkeit: 0.9094\n"
     ]
    }
   ],
   "source": [
    "steps = 2000\n",
    "batch_size = 100\n",
    "init = tf.global_variables_initializer()\n",
    "\n",
    "with tf.Session() as sess:\n",
    "    init.run()\n",
    "    for _ in range(steps):\n",
    "        batch = mnist.train.next_batch(batch_size)\n",
    "        optimizer.run(feed_dict={x: batch[0], y: batch[1]})\n",
    "        \n",
    "    # Define test data to be fed into graph\n",
    "    test_data = { x: mnist.test.images, y: mnist.test.labels }\n",
    "\n",
    "    prediction = tf.argmax(y_pred, 1)\n",
    "    label = tf.argmax(y, 1)\n",
    "\n",
    "    # Calculate whether a prediction is correct or not\n",
    "    correct_prediction = tf.equal(prediction, label)\n",
    "    print(correct_prediction.eval(feed_dict=test_data))\n",
    "    \n",
    "    accuracy = tf.reduce_mean(tf.cast(correct_prediction, tf.float32))\n",
    "    print(\"Klassifikationsrate: \" + str(accuracy.eval(feed_dict=test_data)))"
   ]
  },
  {
   "cell_type": "markdown",
   "metadata": {},
   "source": [
    "Hier wird nun ein deutlich besseres Ergebnis erreicht. Im ersten Durchlauf wurde nicht bedacht, dass das trainierte Modell nach Ende der Session verworfen wird. Bei Erstellung der Evaluationssession werden die Gewichte des Modells neu initialisiert und die Evaluation darauf durchgeführt.\n",
    "\n",
    "Um dies zu verhindern sollte das Modell nach dem Training vor dem Beenden der Session gespeichert werden. Zur Evaluation kann es dann innerhalb der Evaluationssession wieder geladen werden. Somit sind Training und Evaluation zeitlich entkoppelt und das Modell verbleibt zur späteren Verwendung gespeichert."
   ]
  },
  {
   "cell_type": "code",
   "execution_count": 117,
   "metadata": {
    "collapsed": true
   },
   "outputs": [],
   "source": [
    "steps = 2000\n",
    "batch_size = 100\n",
    "init = tf.global_variables_initializer()\n",
    "saver = tf.train.Saver()\n",
    "\n",
    "with tf.Session() as sess:\n",
    "    init.run()\n",
    "    for _ in range(steps):\n",
    "        batch = mnist.train.next_batch(batch_size)\n",
    "        optimizer.run(feed_dict={x: batch[0], y: batch[1]})\n",
    "    saver.save(sess, \"/tmp/model.ckpt\")"
   ]
  },
  {
   "cell_type": "code",
   "execution_count": 119,
   "metadata": {
    "collapsed": false
   },
   "outputs": [
    {
     "name": "stdout",
     "output_type": "stream",
     "text": [
      "[ True  True  True ...,  True  True  True]\n",
      "Genauigkeit: 0.9106\n"
     ]
    }
   ],
   "source": [
    "with tf.Session() as sess:\n",
    "    saver.restore(sess, \"/tmp/model.ckpt\")\n",
    "    # Define test data to be fed into graph\n",
    "    test_data = { x: mnist.test.images, y: mnist.test.labels }\n",
    "\n",
    "    prediction = tf.argmax(y_pred, 1)\n",
    "    label = tf.argmax(y, 1)\n",
    "\n",
    "    # Calculate whether a prediction is correct or not\n",
    "    correct_prediction = tf.equal(prediction, label)\n",
    "    print(correct_prediction.eval(feed_dict=test_data))\n",
    "    \n",
    "    accuracy = tf.reduce_mean(tf.cast(correct_prediction, tf.float32))\n",
    "    print(\"Klassifikationsrate: \" + str(accuracy.eval(feed_dict=test_data)))"
   ]
  },
  {
   "cell_type": "markdown",
   "metadata": {},
   "source": [
    "Das Modell kann nun auch zur Klassifikation einzelner Eingabebilder genutzt werden. Nachfolgend wir ein zufälliges Bild aus dem MNIST Testdatensatz ausgewählt und angezeigt:"
   ]
  },
  {
   "cell_type": "code",
   "execution_count": 125,
   "metadata": {
    "collapsed": false
   },
   "outputs": [
    {
     "data": {
      "image/png": "[encoded data removed]",
      "text/plain": [
       "<matplotlib.figure.Figure at 0x7f0960c0f310>"
      ]
     },
     "metadata": {},
     "output_type": "display_data"
    }
   ],
   "source": [
    "import random\n",
    "img = random.choice(mnist.test.images)\n",
    "plt.imshow(img.reshape([28,28]))\n",
    "plt.gray()\n",
    "plt.show()"
   ]
  },
  {
   "cell_type": "markdown",
   "metadata": {},
   "source": [
    "Auf dieses Bild kann nun der Klassifikator angewandt werden. Mit folgendem Code wird zunächst das gelernte Modell geladen und danach auf das Bild angewendet. Die resultierende Verteilund und somit die vorhergesagte Klasse kann beispielsweise in einem Balkendiagramm ausgegeben werden:"
   ]
  },
  {
   "cell_type": "code",
   "execution_count": 126,
   "metadata": {
    "collapsed": false
   },
   "outputs": [
    {
     "data": {
      "image/png": "[encoded data removed]",
      "text/plain": [
       "<matplotlib.figure.Figure at 0x7f09608c70d0>"
      ]
     },
     "metadata": {},
     "output_type": "display_data"
    }
   ],
   "source": [
    "with tf.Session() as sess:\n",
    "    saver.restore(sess, \"/tmp/model.ckpt\")\n",
    "    plt.bar(range(10), y_pred.eval(feed_dict={x: [img] })[0])\n",
    "    plt.show()"
   ]
  },
  {
   "cell_type": "markdown",
   "metadata": {},
   "source": [
    "### Interactive Sessions"
   ]
  },
  {
   "cell_type": "markdown",
   "metadata": {},
   "source": [
    "Falls all diese Schritte in einer Umgebung wie den Jupyter Notebooks ausgeführt werden, existiert in Tensorflow auch eine interaktive Session. Hiermit wird zu Beginn eine Session definiert und für den weiteren Verlauf als Standard-Session verwendet. Ein Speichern und Laden von Modellen ist so nicht mehr nötig:  "
   ]
  },
  {
   "cell_type": "code",
   "execution_count": 135,
   "metadata": {
    "collapsed": true
   },
   "outputs": [],
   "source": [
    "sess = tf.InteractiveSession()"
   ]
  },
  {
   "cell_type": "code",
   "execution_count": 136,
   "metadata": {
    "collapsed": true
   },
   "outputs": [],
   "source": [
    "tf.global_variables_initializer().run()"
   ]
  },
  {
   "cell_type": "code",
   "execution_count": 133,
   "metadata": {
    "collapsed": true
   },
   "outputs": [],
   "source": [
    "sess.run(tf.global_variables_initializer())"
   ]
  },
  {
   "cell_type": "code",
   "execution_count": 137,
   "metadata": {
    "collapsed": true
   },
   "outputs": [],
   "source": [
    "steps = 20000\n",
    "batch_size = 100\n",
    "\n",
    "for i in range(steps):\n",
    "    batch = mnist.train.next_batch(batch_size)\n",
    "    sess.run(optimizer, feed_dict={x: batch[0], y: batch[1]})"
   ]
  },
  {
   "cell_type": "code",
   "execution_count": 138,
   "metadata": {
    "collapsed": false
   },
   "outputs": [
    {
     "name": "stdout",
     "output_type": "stream",
     "text": [
      "[ True  True  True ...,  True  True  True]\n",
      "Klassifikationsrate: 0.9227\n"
     ]
    }
   ],
   "source": [
    "# Define test data to be fed into graph\n",
    "test_data = { x: mnist.test.images, y: mnist.test.labels }\n",
    "\n",
    "prediction = tf.argmax(y_pred, 1)\n",
    "label = tf.argmax(y, 1)\n",
    "\n",
    "# Calculate whether a prediction is correct or not\n",
    "correct_prediction = tf.equal(prediction, label)\n",
    "print(correct_prediction.eval(feed_dict=test_data))\n",
    "\n",
    "accuracy = tf.reduce_mean(tf.cast(correct_prediction, tf.float32))\n",
    "print(\"Klassifikationsrate: \" + str(accuracy.eval(feed_dict=test_data)))"
   ]
  },
  {
   "cell_type": "code",
   "execution_count": 140,
   "metadata": {
    "collapsed": false,
    "scrolled": true
   },
   "outputs": [
    {
     "data": {
      "image/png": "[encoded data removed]",
      "text/plain": [
       "<matplotlib.figure.Figure at 0x7f09566e7a10>"
      ]
     },
     "metadata": {},
     "output_type": "display_data"
    }
   ],
   "source": [
    "import random\n",
    "img = random.choice(mnist.test.images)\n",
    "plt.imshow(img.reshape([28,28]))\n",
    "plt.gray()\n",
    "plt.show()"
   ]
  },
  {
   "cell_type": "code",
   "execution_count": 139,
   "metadata": {
    "collapsed": false
   },
   "outputs": [
    {
     "name": "stdout",
     "output_type": "stream",
     "text": [
      "0.9227\n"
     ]
    }
   ],
   "source": [
    "# Determine fraction of correct predictions given the true label\n",
    "accuracy = tf.reduce_mean(tf.cast(correct_prediction, tf.float32))\n",
    "print accuracy.eval(feed_dict=test_data)"
   ]
  },
  {
   "cell_type": "code",
   "execution_count": 141,
   "metadata": {
    "collapsed": false,
    "scrolled": true
   },
   "outputs": [
    {
     "data": {
      "image/png": "[encoded data removed]",
      "text/plain": [
       "<matplotlib.figure.Figure at 0x7f0960bb79d0>"
      ]
     },
     "metadata": {},
     "output_type": "display_data"
    }
   ],
   "source": [
    "plt.bar(range(10), y_pred.eval(feed_dict={x: [img] })[0])\n",
    "plt.show()"
   ]
  },
  {
   "cell_type": "markdown",
   "metadata": {},
   "source": [
    "Nach Ende der Verwendung sollte auch die interaktive Session wieder geschlossen werden:"
   ]
  },
  {
   "cell_type": "code",
   "execution_count": 30,
   "metadata": {
    "collapsed": false
   },
   "outputs": [
    {
     "name": "stdout",
     "output_type": "stream",
     "text": [
      "[[  0.64392018   2.81098771  14.22045708   7.95471954 -14.39821625\n",
      "    1.78300774   5.14748096 -11.35773945   2.39862823  -9.20321465]]\n"
     ]
    }
   ],
   "source": [
    "print(y_pred.eval(feed_dict={x: [img]}))"
   ]
  },
  {
   "cell_type": "code",
   "execution_count": 142,
   "metadata": {
    "collapsed": true
   },
   "outputs": [],
   "source": [
    "sess.close()"
   ]
  },
  {
   "cell_type": "markdown",
   "metadata": {},
   "source": [
    "## MNIST Klassifikation mit CNNs"
   ]
  },
  {
   "cell_type": "markdown",
   "metadata": {},
   "source": [
    "Zunächst sollte die Umgebung aufgeräumt werden:"
   ]
  },
  {
   "cell_type": "code",
   "execution_count": 143,
   "metadata": {
    "collapsed": true
   },
   "outputs": [],
   "source": [
    "tf.reset_default_graph()"
   ]
  },
  {
   "cell_type": "markdown",
   "metadata": {},
   "source": [
    "Danach wird eine neue interaktive Session gestartet:"
   ]
  },
  {
   "cell_type": "code",
   "execution_count": 3,
   "metadata": {
    "collapsed": true
   },
   "outputs": [],
   "source": [
    "sess = tf.InteractiveSession()"
   ]
  },
  {
   "cell_type": "markdown",
   "metadata": {},
   "source": [
    "Nun wird der TensorFlow Graph mit mit der CNN Architektur erstellt:"
   ]
  },
  {
   "cell_type": "code",
   "execution_count": 4,
   "metadata": {
    "collapsed": true
   },
   "outputs": [],
   "source": [
    "# Define placeholders for input data and labels (with arbitrary batch size)\n",
    "x = tf.placeholder(tf.float32, shape=[None, 784])    # input as vector of size 28*28 = 784\n",
    "y = tf.placeholder(tf.float32, shape=[None, 10])    # labels as numbers 0 - 9"
   ]
  },
  {
   "cell_type": "code",
   "execution_count": 5,
   "metadata": {
    "collapsed": true
   },
   "outputs": [],
   "source": [
    "# Define functions to create layers\n",
    "def conv2d(x, W):\n",
    "  return tf.nn.conv2d(x, W, strides=[1, 1, 1, 1], padding='SAME')\n",
    "\n",
    "def max_pool_2x2(x):\n",
    "  return tf.nn.max_pool(x, ksize=[1, 2, 2, 1],\n",
    "                        strides=[1, 2, 2, 1], padding='SAME')"
   ]
  },
  {
   "cell_type": "markdown",
   "metadata": {},
   "source": [
    "#### Eingabeschicht:"
   ]
  },
  {
   "cell_type": "code",
   "execution_count": 6,
   "metadata": {
    "collapsed": true
   },
   "outputs": [],
   "source": [
    "# Transform MNIST images to 4-dimensional tensor:\n",
    "#[MiniBatch, x, y, color_channels]\n",
    "x_image = tf.reshape(x, [-1,28,28,1])"
   ]
  },
  {
   "cell_type": "markdown",
   "metadata": {},
   "source": [
    "#### Erste Schicht: Convolution (32 Filter der Größe 5x5):"
   ]
  },
  {
   "cell_type": "code",
   "execution_count": 7,
   "metadata": {
    "collapsed": true
   },
   "outputs": [],
   "source": [
    "# Filter size: 5x5, color channels: 1, number of filters: 32\n",
    "W_conv1 = tf.Variable(tf.truncated_normal(shape=[5, 5, 1, 32], stddev=0.1))\n",
    "b_conv1 = tf.Variable(tf.constant(0.1, shape=[32]))\n",
    "\n",
    "h_conv1 = tf.nn.relu(conv2d(x_image, W_conv1) + b_conv1)"
   ]
  },
  {
   "cell_type": "markdown",
   "metadata": {},
   "source": [
    "#### Zweite Schicht: MaxPooling (2x2)"
   ]
  },
  {
   "cell_type": "code",
   "execution_count": 8,
   "metadata": {
    "collapsed": true
   },
   "outputs": [],
   "source": [
    "h_pool1 = max_pool_2x2(h_conv1)"
   ]
  },
  {
   "cell_type": "markdown",
   "metadata": {},
   "source": [
    "#### Dritte Schicht: Convolution (64 Filter der Größe 5x5):"
   ]
  },
  {
   "cell_type": "code",
   "execution_count": 9,
   "metadata": {
    "collapsed": true
   },
   "outputs": [],
   "source": [
    "# Filter size: 5x5, input size: 32, number of filters: 64\n",
    "W_conv2 = tf.Variable(tf.truncated_normal(shape=[5, 5, 32, 64], stddev=0.1))\n",
    "b_conv2 = tf.Variable(tf.constant(0.1, shape=[64]))\n",
    "\n",
    "h_conv2 = tf.nn.relu(conv2d(h_pool1, W_conv2) + b_conv2)"
   ]
  },
  {
   "cell_type": "markdown",
   "metadata": {},
   "source": [
    "#### Vierte Schicht: MaxPooling (2x2)"
   ]
  },
  {
   "cell_type": "code",
   "execution_count": 10,
   "metadata": {
    "collapsed": true
   },
   "outputs": [],
   "source": [
    "h_pool2 = max_pool_2x2(h_conv2)"
   ]
  },
  {
   "cell_type": "markdown",
   "metadata": {},
   "source": [
    "Nachfolgend zwei Fully Connected Layer (3136 und 1024 Neuronen):"
   ]
  },
  {
   "cell_type": "code",
   "execution_count": 11,
   "metadata": {
    "collapsed": true
   },
   "outputs": [],
   "source": [
    "# Fully connected layer\n",
    "W_fc1 = tf.Variable(tf.truncated_normal(shape=[7 * 7 * 64, 1024], stddev=0.1))\n",
    "b_fc1 = tf.Variable(tf.constant(0.1, shape=[1024]))\n",
    "\n",
    "h_pool2_flat = tf.reshape(h_pool2, [-1, 7*7*64])\n",
    "h_fc1 = tf.nn.relu(tf.matmul(h_pool2_flat, W_fc1) + b_fc1)"
   ]
  },
  {
   "cell_type": "code",
   "execution_count": 12,
   "metadata": {
    "collapsed": true
   },
   "outputs": [],
   "source": [
    "# Add classification layer at the end\n",
    "W_fc2 = tf.Variable(tf.truncated_normal(shape=[1024, 10], stddev=0.1))\n",
    "b_fc2 = tf.Variable(tf.constant(0.1, shape=[10]))\n",
    "\n",
    "y_conv = tf.matmul(h_fc1, W_fc2) + b_fc2\n",
    "\n",
    "# Use softmax loss (just as before!)\n",
    "softmax = tf.reduce_mean(tf.nn.softmax_cross_entropy_with_logits(labels=y, logits=y_conv))"
   ]
  },
  {
   "cell_type": "markdown",
   "metadata": {},
   "source": [
    "#### Training"
   ]
  },
  {
   "cell_type": "markdown",
   "metadata": {},
   "source": [
    "Zum Trainieren des Netzes wird an dieser Stelle der Adam Optimizer verwendet. Gradient Descent würde an dieser Stelle auch funktionieren. In den letzten Jahren hat sich allerdings gezeigt, dass Adam bei größeren Netzen schneller bessere Ergebnisse erreicht."
   ]
  },
  {
   "cell_type": "code",
   "execution_count": 13,
   "metadata": {
    "collapsed": true
   },
   "outputs": [],
   "source": [
    "learning_rate = 0.0001\n",
    "steps = 100\n",
    "\n",
    "adam_optimizer = tf.train.AdamOptimizer(learning_rate).minimize(softmax)"
   ]
  },
  {
   "cell_type": "markdown",
   "metadata": {},
   "source": [
    "Ist das Netz definiert, kann das Training gestartet werden. Hierbei ist zu Beachten, dass das Netz bereits eine gewisse Größe erreicht hat. Deshalb muss mit einer deutlich längeren Trainingslaufzeit als bei den bisher ausgeführten Trainings gerechnet werden. An diesem Punkt stellt sich zum ersten Mal die Frage, ob nicht eine Auslagerung des Trainings auf eine Grafikkarte sinnvoll wäre. Hierzu müsste lediglich die gpu Version von Tensorflow im Virtualenv installiert werden."
   ]
  },
  {
   "cell_type": "code",
   "execution_count": 26,
   "metadata": {
    "collapsed": false
   },
   "outputs": [
    {
     "name": "stdout",
     "output_type": "stream",
     "text": [
      "step 0, training accuracy 0.12\n"
     ]
    }
   ],
   "source": [
    "batch_size = 50\n",
    "\n",
    "# Calculate whether a prediction is correct or not\n",
    "# This time we can include it in the training loop to check progress \n",
    "# during training on training data.\n",
    "correct_prediction = tf.equal(tf.argmax(y_conv,1), tf.argmax(y,1))\n",
    "accuracy = tf.reduce_mean(tf.cast(correct_prediction, tf.float32))\n",
    "\n",
    "tf.global_variables_initializer().run()\n",
    "\n",
    "for i in range(steps):\n",
    "    batch = mnist.train.next_batch(batch_size)\n",
    "    if i%100 == 0:\n",
    "        train_accuracy = accuracy.eval(feed_dict={\n",
    "            x:batch[0], y: batch[1]})\n",
    "        print(\"step %d, training accuracy %g\"%(i, train_accuracy))\n",
    "    #Aufgabe:\n",
    "    #Ergänzen sie an dieser Stelle den zentralen Befehl zum Training des Netzes"
   ]
  },
  {
   "cell_type": "markdown",
   "metadata": {},
   "source": [
    "#### Evaluation"
   ]
  },
  {
   "cell_type": "code",
   "execution_count": 27,
   "metadata": {
    "collapsed": false
   },
   "outputs": [
    {
     "name": "stdout",
     "output_type": "stream",
     "text": [
      "Klassifikationsrate 0.1021\n"
     ]
    }
   ],
   "source": [
    "print(\"Klassifikationsrate %g\" % accuracy.eval(feed_dict={x: mnist.test.images, y: mnist.test.labels}))"
   ]
  },
  {
   "cell_type": "markdown",
   "metadata": {},
   "source": [
    "#### Klassifikation"
   ]
  },
  {
   "cell_type": "markdown",
   "metadata": {},
   "source": [
    "Nachfolgend soll wieder ein zufälliges Bild aus dem Trainingsdatensatz gewählt werden."
   ]
  },
  {
   "cell_type": "code",
   "execution_count": 28,
   "metadata": {
    "collapsed": false
   },
   "outputs": [
    {
     "data": {
      "image/png": "[encoded data removed]",
      "text/plain": [
       "<matplotlib.figure.Figure at 0x7f19d77a27d0>"
      ]
     },
     "metadata": {},
     "output_type": "display_data"
    }
   ],
   "source": [
    "import random\n",
    "img = random.choice(mnist.test.images)\n",
    "plt.imshow(img.reshape([28,28]))\n",
    "plt.gray()\n",
    "plt.show()"
   ]
  },
  {
   "cell_type": "markdown",
   "metadata": {},
   "source": [
    "Auf dieses Bild kann nun das trainierte Modell angewandt werden. Die Ausgabe des Netzes werden anschließend in Form eines Balkendiagrammes ausgegeben."
   ]
  },
  {
   "cell_type": "code",
   "execution_count": 30,
   "metadata": {
    "collapsed": false
   },
   "outputs": [
    {
     "data": {
      "image/png": "[encoded data removed]",
      "text/plain": [
       "<matplotlib.figure.Figure at 0x7f19cc252550>"
      ]
     },
     "metadata": {},
     "output_type": "display_data"
    }
   ],
   "source": [
    "plt.bar(range(10), y_conv.eval(feed_dict={x: [img] })[0])\n",
    "plt.show()"
   ]
  }
 ],
 "metadata": {
  "kernelspec": {
   "display_name": "Python 2",
   "language": "python",
   "name": "python2"
  },
  "language_info": {
   "codemirror_mode": {
    "name": "ipython",
    "version": 2
   },
   "file_extension": ".py",
   "mimetype": "text/x-python",
   "name": "python",
   "nbconvert_exporter": "python",
   "pygments_lexer": "ipython2",
   "version": "2.7.6"
  }
 },
 "nbformat": 4,
 "nbformat_minor": 2
}
