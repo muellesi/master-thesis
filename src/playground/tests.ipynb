{
 "cells": [
  {
   "cell_type": "code",
   "execution_count": 1,
   "metadata": {
    "pycharm": {
     "is_executing": false
    }
   },
   "outputs": [
    {
     "traceback": [
      "Traceback \u001b[1;36m(most recent call last)\u001b[0m:\n",
      "  File \u001b[0;32m\"C:\\Users\\Simon\\Anaconda3\\envs\\master-thesis\\lib\\site-packages\\IPython\\core\\interactiveshell.py\"\u001b[0m, line \u001b[0;32m3326\u001b[0m, in \u001b[0;35mrun_code\u001b[0m\n    exec(code_obj, self.user_global_ns, self.user_ns)\n",
      "  File \u001b[0;32m\"<ipython-input-1-a5a24c91d254>\"\u001b[0m, line \u001b[0;32m6\u001b[0m, in \u001b[0;35m<module>\u001b[0m\n    import models\n",
      "\u001b[1;36m  File \u001b[1;32m\"E:\\Google Drive\\UNI\\Master\\Thesis\\src\\models\\__init__.py\"\u001b[1;36m, line \u001b[1;32m2\u001b[1;36m, in \u001b[1;35m<module>\u001b[1;36m\u001b[0m\n\u001b[1;33m    from .wrist_cnn import *\u001b[0m\n",
      "\u001b[1;36m  File \u001b[1;32m\"E:\\Google Drive\\UNI\\Master\\Thesis\\src\\models\\wrist_cnn.py\"\u001b[1;36m, line \u001b[1;32m11\u001b[0m\n\u001b[1;33m    self.encoder = tf.keras.applications.MobileNetV2(input_shape=input_shape=(227, 227, 3), include_top=False, weights=\"imagenet\")\u001b[0m\n\u001b[1;37m                                                                            ^\u001b[0m\n\u001b[1;31mSyntaxError\u001b[0m\u001b[1;31m:\u001b[0m invalid syntax\n"
     ],
     "ename": "SyntaxError",
     "evalue": "invalid syntax (wrist_cnn.py, line 11)",
     "output_type": "error"
    }
   ],
   "source": [
    "import numpy as np\n",
    "import matplotlib.pyplot as plt\n",
    "import matplotlib\n",
    "import cv2\n",
    "import tools\n",
    "import models"
   ]
  },
  {
   "cell_type": "code",
   "execution_count": 9,
   "outputs": [
    {
     "traceback": [
      "\u001b[1;31m---------------------------------------------------------------------------\u001b[0m",
      "\u001b[1;31mFileNotFoundError\u001b[0m                         Traceback (most recent call last)",
      "\u001b[1;32m<ipython-input-9-ecbc95496d69>\u001b[0m in \u001b[0;36m<module>\u001b[1;34m\u001b[0m\n\u001b[1;32m----> 1\u001b[1;33m \u001b[0mskeleton\u001b[0m\u001b[1;33m=\u001b[0m\u001b[0mnp\u001b[0m\u001b[1;33m.\u001b[0m\u001b[0mload\u001b[0m\u001b[1;33m(\u001b[0m\u001b[1;34m\"../testskel.npy\"\u001b[0m\u001b[1;33m)\u001b[0m\u001b[1;33m\u001b[0m\u001b[1;33m\u001b[0m\u001b[0m\n\u001b[0m\u001b[0;32m      2\u001b[0m \u001b[1;32mfor\u001b[0m \u001b[0mcoord\u001b[0m \u001b[1;32min\u001b[0m \u001b[0mskeleton\u001b[0m\u001b[1;33m:\u001b[0m\u001b[1;33m\u001b[0m\u001b[1;33m\u001b[0m\u001b[0m\n\u001b[0;32m      3\u001b[0m     \u001b[0mcoord\u001b[0m\u001b[1;33m[\u001b[0m\u001b[1;36m0\u001b[0m\u001b[1;33m]\u001b[0m \u001b[1;33m=\u001b[0m \u001b[0mcoord\u001b[0m\u001b[1;33m[\u001b[0m\u001b[1;36m0\u001b[0m\u001b[1;33m]\u001b[0m \u001b[1;33m*\u001b[0m \u001b[1;36m128\u001b[0m\u001b[1;33m/\u001b[0m\u001b[1;36m640\u001b[0m\u001b[1;33m\u001b[0m\u001b[1;33m\u001b[0m\u001b[0m\n\u001b[0;32m      4\u001b[0m     \u001b[0mcoord\u001b[0m\u001b[1;33m[\u001b[0m\u001b[1;36m1\u001b[0m\u001b[1;33m]\u001b[0m \u001b[1;33m=\u001b[0m \u001b[0mcoord\u001b[0m\u001b[1;33m[\u001b[0m\u001b[1;36m1\u001b[0m\u001b[1;33m]\u001b[0m \u001b[1;33m*\u001b[0m \u001b[1;36m128\u001b[0m\u001b[1;33m/\u001b[0m\u001b[1;36m480\u001b[0m\u001b[1;33m\u001b[0m\u001b[1;33m\u001b[0m\u001b[0m\n\u001b[0;32m      5\u001b[0m \u001b[0mimage\u001b[0m \u001b[1;33m=\u001b[0m \u001b[0mnp\u001b[0m\u001b[1;33m.\u001b[0m\u001b[0mload\u001b[0m\u001b[1;33m(\u001b[0m\u001b[1;34m\"../testimg.npy\"\u001b[0m\u001b[1;33m)\u001b[0m\u001b[1;33m\u001b[0m\u001b[1;33m\u001b[0m\u001b[0m\n",
      "\u001b[1;32m~\\Anaconda3\\envs\\master-thesis\\lib\\site-packages\\numpy\\lib\\npyio.py\u001b[0m in \u001b[0;36mload\u001b[1;34m(file, mmap_mode, allow_pickle, fix_imports, encoding)\u001b[0m\n\u001b[0;32m    426\u001b[0m         \u001b[0mown_fid\u001b[0m \u001b[1;33m=\u001b[0m \u001b[1;32mFalse\u001b[0m\u001b[1;33m\u001b[0m\u001b[1;33m\u001b[0m\u001b[0m\n\u001b[0;32m    427\u001b[0m     \u001b[1;32melse\u001b[0m\u001b[1;33m:\u001b[0m\u001b[1;33m\u001b[0m\u001b[1;33m\u001b[0m\u001b[0m\n\u001b[1;32m--> 428\u001b[1;33m         \u001b[0mfid\u001b[0m \u001b[1;33m=\u001b[0m \u001b[0mopen\u001b[0m\u001b[1;33m(\u001b[0m\u001b[0mos_fspath\u001b[0m\u001b[1;33m(\u001b[0m\u001b[0mfile\u001b[0m\u001b[1;33m)\u001b[0m\u001b[1;33m,\u001b[0m \u001b[1;34m\"rb\"\u001b[0m\u001b[1;33m)\u001b[0m\u001b[1;33m\u001b[0m\u001b[1;33m\u001b[0m\u001b[0m\n\u001b[0m\u001b[0;32m    429\u001b[0m         \u001b[0mown_fid\u001b[0m \u001b[1;33m=\u001b[0m \u001b[1;32mTrue\u001b[0m\u001b[1;33m\u001b[0m\u001b[1;33m\u001b[0m\u001b[0m\n\u001b[0;32m    430\u001b[0m \u001b[1;33m\u001b[0m\u001b[0m\n",
      "\u001b[1;31mFileNotFoundError\u001b[0m: [Errno 2] No such file or directory: '../testskel.npy'"
     ],
     "ename": "FileNotFoundError",
     "evalue": "[Errno 2] No such file or directory: '../testskel.npy'",
     "output_type": "error"
    }
   ],
   "source": [
    "skeleton=np.load(\"../testskel.npy\")\n",
    "for coord in skeleton:\n",
    "    coord[0] = coord[0] * 128/640\n",
    "    coord[1] = coord[1] * 128/480\n",
    "image = np.load(\"../testimg.npy\")"
   ],
   "metadata": {
    "collapsed": false,
    "pycharm": {
     "name": "#%%\n",
     "is_executing": false
    }
   }
  },
  {
   "cell_type": "code",
   "execution_count": null,
   "metadata": {
    "pycharm": {
     "is_executing": false
    }
   },
   "outputs": [],
   "source": [
    "def joint_angle_from_joint_positions(joint1, joint2, joint3):\n",
    "    dir12 = joint2 - joint1\n",
    "    dir23 = joint3 - joint2\n",
    "    \n",
    "    angle_joint_2 = np.arccos(np.dot(dir12, dir23) / np.linalg.norm(dir12) * np.linalg.norm(dir23))\n",
    "    return angle_joint_2"
   ]
  },
  {
   "cell_type": "code",
   "execution_count": null,
   "metadata": {
    "pycharm": {
     "is_executing": false
    }
   },
   "outputs": [],
   "source": [
    "def __draw2djoints_matplotlib(ax, annots, links, alpha=1):\n",
    "    \"\"\"\n",
    "    Draw segments, one color per link\n",
    "    https://github.com/guiggh/hand_pose_action/blob/master/load_example.py#L66\n",
    "    \"\"\"\n",
    "    colors = ['r', 'm', 'b', 'c', 'g']\n",
    "\n",
    "    for finger_idx, finger_links in enumerate(links):\n",
    "        for idx in range(len(finger_links) - 1):\n",
    "            __draw2dseg_matplotlib(\n",
    "                    ax,\n",
    "                    annots,\n",
    "                    finger_links[idx],\n",
    "                    finger_links[idx + 1],\n",
    "                    c=colors[finger_idx],\n",
    "                    alpha=alpha)"
   ]
  },
  {
   "cell_type": "code",
   "execution_count": null,
   "metadata": {
    "pycharm": {
     "is_executing": false
    }
   },
   "outputs": [],
   "source": [
    "def __draw2dseg_matplotlib(ax, annot, idx1, idx2, c='r', alpha=1):\n",
    "    \"\"\"Draw segment of given color\n",
    "    https://github.com/guiggh/hand_pose_action/blob/master/load_example.py#L81\n",
    "    \"\"\"\n",
    "    ax.plot(\n",
    "            [annot[idx1, 0], annot[idx2, 0]], [annot[idx1, 1], annot[idx2, 1]],\n",
    "            c=c,\n",
    "            alpha=alpha)"
   ]
  },
  {
   "cell_type": "code",
   "execution_count": null,
   "metadata": {
    "pycharm": {
     "is_executing": false
    }
   },
   "outputs": [],
   "source": [
    "def visualize_joints_2d(canvas, joints, joint_idxs=True, joint_names=None, links=None, alpha=1):\n",
    "    \"\"\"Draw 2d skeleton on matplotlib axis\n",
    "    Based on https://github.com/guiggh/hand_pose_action/blob/master/load_example.py#L49\n",
    "    \"\"\"\n",
    "    if links is None:\n",
    "        links = [(0, 1, 6, 7, 8), (0, 2, 9, 10, 11), (0, 3, 12, 13, 14),\n",
    "                 (0, 4, 15, 16, 17), (0, 5, 18, 19, 20)]\n",
    "\n",
    "    if isinstance(canvas, matplotlib.axes.SubplotBase):\n",
    "        ax = canvas\n",
    "        # Scatter hand joints on image\n",
    "        x = joints[:, 0]\n",
    "        y = joints[:, 1]\n",
    "        ax.scatter(x, y, 1, 'r')\n",
    "\n",
    "        # Add idx labels to joints\n",
    "        for row_idx, row in enumerate(joints):\n",
    "            if joint_idxs:\n",
    "                if joint_names:\n",
    "                    plt.annotate(str(joint_names[row_idx]), (row[0], row[1]))\n",
    "                else:\n",
    "                    plt.annotate(str(row_idx), (row[0], row[1]))\n",
    "\n",
    "        __draw2djoints_matplotlib(ax, joints, links, alpha=alpha)\n",
    "        \n",
    "    elif isinstance(canvas, np.ndarray):\n",
    "        img = canvas\n",
    "        \n",
    "        for joint in joints:\n",
    "            joint = joint.astype(np.int)\n",
    "            img = cv2.circle(img, tuple(joint), 1, (255, 0, 0), 1)\n",
    "        img = __draw2djoints_cv(img, joints, links, alpha=alpha)\n"
   ]
  },
  {
   "cell_type": "code",
   "execution_count": null,
   "metadata": {
    "pycharm": {
     "is_executing": false,
     "name": "#%%\n"
    }
   },
   "outputs": [],
   "source": [
    "    \n",
    "fig = plt.figure(figsize=(140, 100))\n",
    "ax = fig.add_subplot(5, 5, 1)\n",
    "ax.imshow(image)\n",
    "print(isinstance(ax, matplotlib.axes.SubplotBase))\n",
    "visualize_joints_2d(ax, skeleton, joint_names=tools.FHAD.get_joint_names())    "
   ]
  },
  {
   "cell_type": "code",
   "execution_count": null,
   "outputs": [],
   "source": [
    "def __draw2dseg_cv(img, joints, idx1, idx2, c='r', alpha=1):\n",
    "    cmap = {\n",
    "            'r': (255, 0, 0),\n",
    "            'm': (255,0,255),\n",
    "            'b': (0,0,240),\n",
    "            'c': (0,255,255),\n",
    "            'g': (0, 240, 0)\n",
    "    }\n",
    "    img = cv2.line(img, tuple(joints[idx1].astype(np.int)), tuple(joints[idx2].astype(np.int)), cmap[c])\n",
    "    return img"
   ],
   "metadata": {
    "collapsed": false,
    "pycharm": {
     "name": "#%%\n",
     "is_executing": false
    }
   }
  },
  {
   "cell_type": "code",
   "execution_count": null,
   "outputs": [],
   "source": [
    "def __draw2djoints_cv(img, joints, links, alpha=1):\n",
    "    \"\"\"\n",
    "    Draw segments, one color per link\n",
    "    https://github.com/guiggh/hand_pose_action/blob/master/load_example.py#L66\n",
    "    \"\"\"\n",
    "    colors = ['r', 'm', 'b', 'c', 'g']\n",
    "\n",
    "    for finger_idx, finger_links in enumerate(links):\n",
    "        for idx in range(len(finger_links) - 1):\n",
    "            img = __draw2dseg_cv(\n",
    "                    img,\n",
    "                    joints,\n",
    "                    finger_links[idx],\n",
    "                    finger_links[idx + 1],\n",
    "                    c=colors[finger_idx],\n",
    "                    alpha=alpha)\n",
    "    return img"
   ],
   "metadata": {
    "collapsed": false,
    "pycharm": {
     "name": "#%%\n",
     "is_executing": false
    }
   }
  },
  {
   "cell_type": "code",
   "execution_count": null,
   "metadata": {
    "pycharm": {
     "name": "#%%\n",
     "is_executing": false
    }
   },
   "outputs": [],
   "source": [
    "print(type(skeleton))\n",
    "if isinstance(skeleton, np.ndarray):\n",
    "    print(\"whoa\")\n",
    "    "
   ]
  },
  {
   "cell_type": "code",
   "execution_count": null,
   "outputs": [],
   "source": [
    "window_name = \"bullshit\"\n",
    "window = cv2.namedWindow(window_name, cv2.WINDOW_NORMAL)\n",
    "minVal, maxVal, minLoc, maxLoc = cv2.minMaxLoc(image)\n",
    "image2 = cv2.convertScaleAbs(image, alpha=255/maxVal)\n",
    "image2 = cv2.applyColorMap(image2, cv2.COLORMAP_PARULA)\n",
    "visualize_joints_2d(image2, skeleton, joint_names=tools.FHAD.get_joint_names() )\n",
    "fig = plt.figure(figsize=(140, 100))\n",
    "ax = fig.add_subplot(5, 5, 1)\n",
    "ax.imshow(image2)\n",
    "\n",
    "\n"
   ],
   "metadata": {
    "collapsed": false,
    "pycharm": {
     "name": "#%%\n",
     "is_executing": false
    }
   }
  },
  {
   "cell_type": "code",
   "execution_count": null,
   "outputs": [],
   "source": [
    "import os\n",
    "checkpoint_dir = r\"E:\\Google Drive\\UNI\\Master\\Thesis\\src\\data\\pose_est\\checkpoints\"\n",
    "__checkpoint_file_prefix = \"pose_est_\"\n",
    "if os.path.exists(checkpoint_dir):\n",
    "    cp_files = [os.path.abspath(os.path.join(checkpoint_dir, filename)) for filename in os.listdir(checkpoint_dir)]\n",
    "    cp_files = [path for path in cp_files if os.path.isfile(path) and __checkpoint_file_prefix in os.path.basename(path)]\n",
    "\n",
    "    if len(cp_files) > 0:\n",
    "        files_sorted = sorted(cp_files, key=os.path.getctime, reverse=True)\n",
    "        for file in files_sorted:\n",
    "            print(file)\n",
    "            print(os.path.getctime(file))"
   ],
   "metadata": {
    "collapsed": false,
    "pycharm": {
     "name": "#%%\n",
     "is_executing": false
    }
   }
  },
  {
   "cell_type": "code",
   "execution_count": null,
   "outputs": [],
   "source": [
    "from datetime import datetime\n",
    "import shutil\n",
    "import tools\n",
    "__logger = tools.get_logger(__name__, do_file_logging=False)\n",
    "\n",
    "tensorboard_dir = r\"E:\\Google Drive\\UNI\\Master\\Thesis\\src\\data\\pose_est\\tensorboard_logs\"\n",
    "run_types = [\"train\", \"validation\", \"test\"]\n",
    "for run_type in run_types:\n",
    "    type_dir = os.path.join(tensorboard_dir, run_type)\n",
    "    if os.path.exists(type_dir):\n",
    "        log_files = sorted([os.path.join(type_dir, file) for file in os.listdir(type_dir) if os.path.isfile(os.path.join(type_dir, file))], key=os.path.getmtime)\n",
    "        if len(log_files) > 0:\n",
    "            time = datetime.fromtimestamp(os.path.getmtime(log_files[0])).strftime('%Y-%m-%d_%H-%M-%S')\n",
    "            backupdir = os.path.join(type_dir, \"old_runs\", time)\n",
    "            os.makedirs(backupdir)\n",
    "            for file in log_files:\n",
    "                shutil.move(file, backupdir)\n",
    "                print(\"Moving log file {} to {}\".format(file, backupdir))\n"
   ],
   "metadata": {
    "collapsed": false,
    "pycharm": {
     "name": "#%%\n",
     "is_executing": false
    }
   }
  },
  {
   "cell_type": "code",
   "execution_count": 10,
   "outputs": [
    {
     "traceback": [
      "\u001b[1;31m---------------------------------------------------------------------------\u001b[0m",
      "\u001b[1;31mAttributeError\u001b[0m                            Traceback (most recent call last)",
      "\u001b[1;32m<ipython-input-10-d3bb4b5ec9bd>\u001b[0m in \u001b[0;36m<module>\u001b[1;34m\u001b[0m\n\u001b[0;32m      1\u001b[0m \u001b[1;32mimport\u001b[0m \u001b[0mtools\u001b[0m\u001b[1;33m\u001b[0m\u001b[1;33m\u001b[0m\u001b[0m\n\u001b[0;32m      2\u001b[0m \u001b[1;33m\u001b[0m\u001b[0m\n\u001b[1;32m----> 3\u001b[1;33m \u001b[0mcam\u001b[0m \u001b[1;33m=\u001b[0m \u001b[0mtools\u001b[0m\u001b[1;33m.\u001b[0m\u001b[0mRealsenseCamera\u001b[0m\u001b[1;33m(\u001b[0m\u001b[1;33m{\u001b[0m\u001b[1;34m\"file\"\u001b[0m\u001b[1;33m:\u001b[0m \u001b[1;34m\"realsense_settings.json\"\u001b[0m\u001b[1;33m}\u001b[0m\u001b[1;33m)\u001b[0m\u001b[1;33m\u001b[0m\u001b[1;33m\u001b[0m\u001b[0m\n\u001b[0m\u001b[0;32m      4\u001b[0m \u001b[0mpresets\u001b[0m \u001b[1;33m=\u001b[0m \u001b[0mcam\u001b[0m\u001b[1;33m.\u001b[0m\u001b[0mget_depth_presets\u001b[0m\u001b[1;33m(\u001b[0m\u001b[1;33m)\u001b[0m\u001b[1;33m\u001b[0m\u001b[1;33m\u001b[0m\u001b[0m\n\u001b[0;32m      5\u001b[0m \u001b[0mcam\u001b[0m\u001b[1;33m.\u001b[0m\u001b[0mset_depth_preset\u001b[0m\u001b[1;33m(\u001b[0m\u001b[0mpresets\u001b[0m\u001b[1;33m[\u001b[0m\u001b[1;34m\"Hand\"\u001b[0m\u001b[1;33m]\u001b[0m\u001b[1;33m)\u001b[0m\u001b[1;33m\u001b[0m\u001b[1;33m\u001b[0m\u001b[0m\n",
      "\u001b[1;32mE:\\Google Drive\\UNI\\Master\\Thesis\\src\\tools\\realsense.py\u001b[0m in \u001b[0;36m__init__\u001b[1;34m(self, settings)\u001b[0m\n\u001b[0;32m     56\u001b[0m         \u001b[0mw\u001b[0m\u001b[1;33m,\u001b[0m \u001b[0mh\u001b[0m \u001b[1;33m=\u001b[0m \u001b[0mdepth_intrinsics\u001b[0m\u001b[1;33m.\u001b[0m\u001b[0mwidth\u001b[0m\u001b[1;33m,\u001b[0m \u001b[0mdepth_intrinsics\u001b[0m\u001b[1;33m.\u001b[0m\u001b[0mheight\u001b[0m\u001b[1;33m\u001b[0m\u001b[1;33m\u001b[0m\u001b[0m\n\u001b[0;32m     57\u001b[0m \u001b[1;33m\u001b[0m\u001b[0m\n\u001b[1;32m---> 58\u001b[1;33m         \u001b[1;31m# Processing blocks\u001b[0m\u001b[1;33m\u001b[0m\u001b[1;33m\u001b[0m\u001b[1;33m\u001b[0m\u001b[0m\n\u001b[0m\u001b[0;32m     59\u001b[0m         \u001b[0mself\u001b[0m\u001b[1;33m.\u001b[0m\u001b[0mfilter_decimate\u001b[0m \u001b[1;33m=\u001b[0m \u001b[0mrs\u001b[0m\u001b[1;33m.\u001b[0m\u001b[0mdecimation_filter\u001b[0m\u001b[1;33m(\u001b[0m\u001b[1;33m)\u001b[0m\u001b[1;33m\u001b[0m\u001b[1;33m\u001b[0m\u001b[0m\n\u001b[0;32m     60\u001b[0m         \u001b[0mself\u001b[0m\u001b[1;33m.\u001b[0m\u001b[0mfilter_decimate\u001b[0m\u001b[1;33m.\u001b[0m\u001b[0mset_option\u001b[0m\u001b[1;33m(\u001b[0m\u001b[0mrs\u001b[0m\u001b[1;33m.\u001b[0m\u001b[0moption\u001b[0m\u001b[1;33m.\u001b[0m\u001b[0mfilter_magnitude\u001b[0m\u001b[1;33m,\u001b[0m \u001b[1;36m2\u001b[0m \u001b[1;33m**\u001b[0m \u001b[1;36m0\u001b[0m\u001b[1;33m)\u001b[0m\u001b[1;33m\u001b[0m\u001b[1;33m\u001b[0m\u001b[0m\n",
      "\u001b[1;31mAttributeError\u001b[0m: 'RealsenseCamera' object has no attribute 'realsense_settings'"
     ],
     "ename": "AttributeError",
     "evalue": "'RealsenseCamera' object has no attribute 'realsense_settings'",
     "output_type": "error"
    }
   ],
   "source": [
    "import tools\n",
    "\n",
    "cam = tools.RealsenseCamera({\"file\": \"realsense_settings.json\"})\n",
    "presets = cam.get_depth_presets()\n",
    "cam.set_depth_preset(presets[\"Hand\"])\n",
    "cam.autocycle_stream()\n"
   ],
   "metadata": {
    "collapsed": false,
    "pycharm": {
     "name": "#%%\n",
     "is_executing": false
    }
   }
  }
 ],
 "metadata": {
  "kernelspec": {
   "display_name": "Python 3",
   "language": "python",
   "name": "python3"
  },
  "language_info": {
   "codemirror_mode": {
    "name": "ipython",
    "version": 3
   },
   "file_extension": ".py",
   "mimetype": "text/x-python",
   "name": "python",
   "nbconvert_exporter": "python",
   "pygments_lexer": "ipython3",
   "version": "3.7.5"
  },
  "pycharm": {
   "stem_cell": {
    "cell_type": "raw",
    "source": [],
    "metadata": {
     "collapsed": false
    }
   }
  }
 },
 "nbformat": 4,
 "nbformat_minor": 2
}