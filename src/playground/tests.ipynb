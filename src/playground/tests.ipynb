{
 "cells": [
  {
   "cell_type": "code",
   "execution_count": 1,
   "metadata": {
    "pycharm": {
     "is_executing": false
    }
   },
   "outputs": [
    {
     "traceback": [
      "Traceback \u001b[1;36m(most recent call last)\u001b[0m:\n",
      "  File \u001b[0;32m\"C:\\Users\\Simon\\Anaconda3\\envs\\master-thesis\\lib\\site-packages\\IPython\\core\\interactiveshell.py\"\u001b[0m, line \u001b[0;32m3326\u001b[0m, in \u001b[0;35mrun_code\u001b[0m\n    exec(code_obj, self.user_global_ns, self.user_ns)\n",
      "  File \u001b[0;32m\"<ipython-input-1-a5a24c91d254>\"\u001b[0m, line \u001b[0;32m6\u001b[0m, in \u001b[0;35m<module>\u001b[0m\n    import models\n",
      "\u001b[1;36m  File \u001b[1;32m\"E:\\Google Drive\\UNI\\Master\\Thesis\\src\\models\\__init__.py\"\u001b[1;36m, line \u001b[1;32m2\u001b[1;36m, in \u001b[1;35m<module>\u001b[1;36m\u001b[0m\n\u001b[1;33m    from .wrist_cnn import *\u001b[0m\n",
      "\u001b[1;36m  File \u001b[1;32m\"E:\\Google Drive\\UNI\\Master\\Thesis\\src\\models\\wrist_cnn.py\"\u001b[1;36m, line \u001b[1;32m11\u001b[0m\n\u001b[1;33m    self.encoder = tf.keras.applications.MobileNetV2(input_shape=input_shape=(227, 227, 3), include_top=False, weights=\"imagenet\")\u001b[0m\n\u001b[1;37m                                                                            ^\u001b[0m\n\u001b[1;31mSyntaxError\u001b[0m\u001b[1;31m:\u001b[0m invalid syntax\n"
     ],
     "ename": "SyntaxError",
     "evalue": "invalid syntax (wrist_cnn.py, line 11)",
     "output_type": "error"
    }
   ],
   "source": [
    "import cv2\n",
    "import matplotlib\n",
    "import matplotlib.pyplot as plt\n",
    "import numpy as np\n",
    "\n",
    "import tools"
   ]
  },
  {
   "cell_type": "code",
   "execution_count": 9,
   "outputs": [
    {
     "traceback": [
      "\u001b[1;31m---------------------------------------------------------------------------\u001b[0m",
      "\u001b[1;31mFileNotFoundError\u001b[0m                         Traceback (most recent call last)",
      "\u001b[1;32m<ipython-input-9-ecbc95496d69>\u001b[0m in \u001b[0;36m<module>\u001b[1;34m\u001b[0m\n\u001b[1;32m----> 1\u001b[1;33m \u001b[0mskeleton\u001b[0m\u001b[1;33m=\u001b[0m\u001b[0mnp\u001b[0m\u001b[1;33m.\u001b[0m\u001b[0mload\u001b[0m\u001b[1;33m(\u001b[0m\u001b[1;34m\"../testskel.npy\"\u001b[0m\u001b[1;33m)\u001b[0m\u001b[1;33m\u001b[0m\u001b[1;33m\u001b[0m\u001b[0m\n\u001b[0m\u001b[0;32m      2\u001b[0m \u001b[1;32mfor\u001b[0m \u001b[0mcoord\u001b[0m \u001b[1;32min\u001b[0m \u001b[0mskeleton\u001b[0m\u001b[1;33m:\u001b[0m\u001b[1;33m\u001b[0m\u001b[1;33m\u001b[0m\u001b[0m\n\u001b[0;32m      3\u001b[0m     \u001b[0mcoord\u001b[0m\u001b[1;33m[\u001b[0m\u001b[1;36m0\u001b[0m\u001b[1;33m]\u001b[0m \u001b[1;33m=\u001b[0m \u001b[0mcoord\u001b[0m\u001b[1;33m[\u001b[0m\u001b[1;36m0\u001b[0m\u001b[1;33m]\u001b[0m \u001b[1;33m*\u001b[0m \u001b[1;36m128\u001b[0m\u001b[1;33m/\u001b[0m\u001b[1;36m640\u001b[0m\u001b[1;33m\u001b[0m\u001b[1;33m\u001b[0m\u001b[0m\n\u001b[0;32m      4\u001b[0m     \u001b[0mcoord\u001b[0m\u001b[1;33m[\u001b[0m\u001b[1;36m1\u001b[0m\u001b[1;33m]\u001b[0m \u001b[1;33m=\u001b[0m \u001b[0mcoord\u001b[0m\u001b[1;33m[\u001b[0m\u001b[1;36m1\u001b[0m\u001b[1;33m]\u001b[0m \u001b[1;33m*\u001b[0m \u001b[1;36m128\u001b[0m\u001b[1;33m/\u001b[0m\u001b[1;36m480\u001b[0m\u001b[1;33m\u001b[0m\u001b[1;33m\u001b[0m\u001b[0m\n\u001b[0;32m      5\u001b[0m \u001b[0mimage\u001b[0m \u001b[1;33m=\u001b[0m \u001b[0mnp\u001b[0m\u001b[1;33m.\u001b[0m\u001b[0mload\u001b[0m\u001b[1;33m(\u001b[0m\u001b[1;34m\"../testimg.npy\"\u001b[0m\u001b[1;33m)\u001b[0m\u001b[1;33m\u001b[0m\u001b[1;33m\u001b[0m\u001b[0m\n",
      "\u001b[1;32m~\\Anaconda3\\envs\\master-thesis\\lib\\site-packages\\numpy\\lib\\npyio.py\u001b[0m in \u001b[0;36mload\u001b[1;34m(file, mmap_mode, allow_pickle, fix_imports, encoding)\u001b[0m\n\u001b[0;32m    426\u001b[0m         \u001b[0mown_fid\u001b[0m \u001b[1;33m=\u001b[0m \u001b[1;32mFalse\u001b[0m\u001b[1;33m\u001b[0m\u001b[1;33m\u001b[0m\u001b[0m\n\u001b[0;32m    427\u001b[0m     \u001b[1;32melse\u001b[0m\u001b[1;33m:\u001b[0m\u001b[1;33m\u001b[0m\u001b[1;33m\u001b[0m\u001b[0m\n\u001b[1;32m--> 428\u001b[1;33m         \u001b[0mfid\u001b[0m \u001b[1;33m=\u001b[0m \u001b[0mopen\u001b[0m\u001b[1;33m(\u001b[0m\u001b[0mos_fspath\u001b[0m\u001b[1;33m(\u001b[0m\u001b[0mfile\u001b[0m\u001b[1;33m)\u001b[0m\u001b[1;33m,\u001b[0m \u001b[1;34m\"rb\"\u001b[0m\u001b[1;33m)\u001b[0m\u001b[1;33m\u001b[0m\u001b[1;33m\u001b[0m\u001b[0m\n\u001b[0m\u001b[0;32m    429\u001b[0m         \u001b[0mown_fid\u001b[0m \u001b[1;33m=\u001b[0m \u001b[1;32mTrue\u001b[0m\u001b[1;33m\u001b[0m\u001b[1;33m\u001b[0m\u001b[0m\n\u001b[0;32m    430\u001b[0m \u001b[1;33m\u001b[0m\u001b[0m\n",
      "\u001b[1;31mFileNotFoundError\u001b[0m: [Errno 2] No such file or directory: '../testskel.npy'"
     ],
     "ename": "FileNotFoundError",
     "evalue": "[Errno 2] No such file or directory: '../testskel.npy'",
     "output_type": "error"
    }
   ],
   "source": [
    "skeleton=np.load(\"../testskel.npy\")\n",
    "for coord in skeleton:\n",
    "    coord[0] = coord[0] * 128/640\n",
    "    coord[1] = coord[1] * 128/480\n",
    "image = np.load(\"../testimg.npy\")"
   ],
   "metadata": {
    "collapsed": false,
    "pycharm": {
     "name": "#%%\n",
     "is_executing": false
    }
   }
  },
  {
   "cell_type": "code",
   "execution_count": null,
   "metadata": {
    "pycharm": {
     "is_executing": false
    }
   },
   "outputs": [],
   "source": [
    "def joint_angle_from_joint_positions(joint1, joint2, joint3):\n",
    "    dir12 = joint2 - joint1\n",
    "    dir23 = joint3 - joint2\n",
    "    \n",
    "    angle_joint_2 = np.arccos(np.dot(dir12, dir23) / np.linalg.norm(dir12) * np.linalg.norm(dir23))\n",
    "    return angle_joint_2"
   ]
  },
  {
   "cell_type": "code",
   "execution_count": null,
   "metadata": {
    "pycharm": {
     "is_executing": false
    }
   },
   "outputs": [],
   "source": [
    "def __draw2djoints_matplotlib(ax, annots, links, alpha=1):\n",
    "    \"\"\"\n",
    "    Draw segments, one color per link\n",
    "    https://github.com/guiggh/hand_pose_action/blob/master/load_example.py#L66\n",
    "    \"\"\"\n",
    "    colors = ['r', 'm', 'b', 'c', 'g']\n",
    "\n",
    "    for finger_idx, finger_links in enumerate(links):\n",
    "        for idx in range(len(finger_links) - 1):\n",
    "            __draw2dseg_matplotlib(\n",
    "                    ax,\n",
    "                    annots,\n",
    "                    finger_links[idx],\n",
    "                    finger_links[idx + 1],\n",
    "                    c=colors[finger_idx],\n",
    "                    alpha=alpha)"
   ]
  },
  {
   "cell_type": "code",
   "execution_count": null,
   "metadata": {
    "pycharm": {
     "is_executing": false
    }
   },
   "outputs": [],
   "source": [
    "def __draw2dseg_matplotlib(ax, annot, idx1, idx2, c='r', alpha=1):\n",
    "    \"\"\"Draw segment of given color\n",
    "    https://github.com/guiggh/hand_pose_action/blob/master/load_example.py#L81\n",
    "    \"\"\"\n",
    "    ax.plot(\n",
    "            [annot[idx1, 0], annot[idx2, 0]], [annot[idx1, 1], annot[idx2, 1]],\n",
    "            c=c,\n",
    "            alpha=alpha)"
   ]
  },
  {
   "cell_type": "code",
   "execution_count": null,
   "metadata": {
    "pycharm": {
     "is_executing": false
    }
   },
   "outputs": [],
   "source": [
    "def visualize_joints_2d(canvas, joints, joint_idxs=True, joint_names=None, links=None, alpha=1):\n",
    "    \"\"\"Draw 2d skeleton on matplotlib axis\n",
    "    Based on https://github.com/guiggh/hand_pose_action/blob/master/load_example.py#L49\n",
    "    \"\"\"\n",
    "    if links is None:\n",
    "        links = [(0, 1, 6, 7, 8), (0, 2, 9, 10, 11), (0, 3, 12, 13, 14),\n",
    "                 (0, 4, 15, 16, 17), (0, 5, 18, 19, 20)]\n",
    "\n",
    "    if isinstance(canvas, matplotlib.axes.SubplotBase):\n",
    "        ax = canvas\n",
    "        # Scatter hand joints on image\n",
    "        x = joints[:, 0]\n",
    "        y = joints[:, 1]\n",
    "        ax.scatter(x, y, 1, 'r')\n",
    "\n",
    "        # Add idx labels to joints\n",
    "        for row_idx, row in enumerate(joints):\n",
    "            if joint_idxs:\n",
    "                if joint_names:\n",
    "                    plt.annotate(str(joint_names[row_idx]), (row[0], row[1]))\n",
    "                else:\n",
    "                    plt.annotate(str(row_idx), (row[0], row[1]))\n",
    "\n",
    "        __draw2djoints_matplotlib(ax, joints, links, alpha=alpha)\n",
    "        \n",
    "    elif isinstance(canvas, np.ndarray):\n",
    "        img = canvas\n",
    "        \n",
    "        for joint in joints:\n",
    "            joint = joint.astype(np.int)\n",
    "            img = cv2.circle(img, tuple(joint), 1, (255, 0, 0), 1)\n",
    "        img = __draw2djoints_cv(img, joints, links, alpha=alpha)\n"
   ]
  },
  {
   "cell_type": "code",
   "execution_count": null,
   "metadata": {
    "pycharm": {
     "is_executing": false,
     "name": "#%%\n"
    }
   },
   "outputs": [],
   "source": [
    "    \n",
    "fig = plt.figure(figsize=(140, 100))\n",
    "ax = fig.add_subplot(5, 5, 1)\n",
    "ax.imshow(image)\n",
    "print(isinstance(ax, matplotlib.axes.SubplotBase))\n",
    "visualize_joints_2d(ax, skeleton, joint_names=tools.FHAD.get_joint_names())    "
   ]
  },
  {
   "cell_type": "code",
   "execution_count": null,
   "outputs": [],
   "source": [
    "def __draw2dseg_cv(img, joints, idx1, idx2, c='r', alpha=1):\n",
    "    cmap = {\n",
    "            'r': (255, 0, 0),\n",
    "            'm': (255,0,255),\n",
    "            'b': (0,0,240),\n",
    "            'c': (0,255,255),\n",
    "            'g': (0, 240, 0)\n",
    "    }\n",
    "    img = cv2.line(img, tuple(joints[idx1].astype(np.int)), tuple(joints[idx2].astype(np.int)), cmap[c])\n",
    "    return img"
   ],
   "metadata": {
    "collapsed": false,
    "pycharm": {
     "name": "#%%\n",
     "is_executing": false
    }
   }
  },
  {
   "cell_type": "code",
   "execution_count": null,
   "outputs": [],
   "source": [
    "def __draw2djoints_cv(img, joints, links, alpha=1):\n",
    "    \"\"\"\n",
    "    Draw segments, one color per link\n",
    "    https://github.com/guiggh/hand_pose_action/blob/master/load_example.py#L66\n",
    "    \"\"\"\n",
    "    colors = ['r', 'm', 'b', 'c', 'g']\n",
    "\n",
    "    for finger_idx, finger_links in enumerate(links):\n",
    "        for idx in range(len(finger_links) - 1):\n",
    "            img = __draw2dseg_cv(\n",
    "                    img,\n",
    "                    joints,\n",
    "                    finger_links[idx],\n",
    "                    finger_links[idx + 1],\n",
    "                    c=colors[finger_idx],\n",
    "                    alpha=alpha)\n",
    "    return img"
   ],
   "metadata": {
    "collapsed": false,
    "pycharm": {
     "name": "#%%\n",
     "is_executing": false
    }
   }
  },
  {
   "cell_type": "code",
   "execution_count": null,
   "metadata": {
    "pycharm": {
     "name": "#%%\n",
     "is_executing": false
    }
   },
   "outputs": [],
   "source": [
    "print(type(skeleton))\n",
    "if isinstance(skeleton, np.ndarray):\n",
    "    print(\"whoa\")\n",
    "    "
   ]
  },
  {
   "cell_type": "code",
   "execution_count": null,
   "outputs": [],
   "source": [
    "window_name = \"bullshit\"\n",
    "window = cv2.namedWindow(window_name, cv2.WINDOW_NORMAL)\n",
    "minVal, maxVal, minLoc, maxLoc = cv2.minMaxLoc(image)\n",
    "image2 = cv2.convertScaleAbs(image, alpha=255/maxVal)\n",
    "image2 = cv2.applyColorMap(image2, cv2.COLORMAP_PARULA)\n",
    "visualize_joints_2d(image2, skeleton, joint_names=tools.FHAD.get_joint_names() )\n",
    "fig = plt.figure(figsize=(140, 100))\n",
    "ax = fig.add_subplot(5, 5, 1)\n",
    "ax.imshow(image2)\n",
    "\n",
    "\n"
   ],
   "metadata": {
    "collapsed": false,
    "pycharm": {
     "name": "#%%\n",
     "is_executing": false
    }
   }
  },
  {
   "cell_type": "code",
   "execution_count": null,
   "outputs": [],
   "source": [
    "import os\n",
    "checkpoint_dir = r\"E:\\Google Drive\\UNI\\Master\\Thesis\\src\\data\\pose_est\\checkpoints\"\n",
    "__checkpoint_file_prefix = \"pose_est_\"\n",
    "if os.path.exists(checkpoint_dir):\n",
    "    cp_files = [os.path.abspath(os.path.join(checkpoint_dir, filename)) for filename in os.listdir(checkpoint_dir)]\n",
    "    cp_files = [path for path in cp_files if os.path.isfile(path) and __checkpoint_file_prefix in os.path.basename(path)]\n",
    "\n",
    "    if len(cp_files) > 0:\n",
    "        files_sorted = sorted(cp_files, key=os.path.getctime, reverse=True)\n",
    "        for file in files_sorted:\n",
    "            print(file)\n",
    "            print(os.path.getctime(file))"
   ],
   "metadata": {
    "collapsed": false,
    "pycharm": {
     "name": "#%%\n",
     "is_executing": false
    }
   }
  },
  {
   "cell_type": "code",
   "execution_count": null,
   "outputs": [],
   "source": [
    "from datetime import datetime\n",
    "import shutil\n",
    "import tools\n",
    "__logger = tools.get_logger(__name__, do_file_logging=False)\n",
    "\n",
    "tensorboard_dir = r\"E:\\Google Drive\\UNI\\Master\\Thesis\\src\\data\\pose_est\\tensorboard_logs\"\n",
    "run_types = [\"train\", \"validation\", \"test\"]\n",
    "for run_type in run_types:\n",
    "    type_dir = os.path.join(tensorboard_dir, run_type)\n",
    "    if os.path.exists(type_dir):\n",
    "        log_files = sorted([os.path.join(type_dir, file) for file in os.listdir(type_dir) if os.path.isfile(os.path.join(type_dir, file))], key=os.path.getmtime)\n",
    "        if len(log_files) > 0:\n",
    "            time = datetime.fromtimestamp(os.path.getmtime(log_files[0])).strftime('%Y-%m-%d_%H-%M-%S')\n",
    "            backupdir = os.path.join(type_dir, \"old_runs\", time)\n",
    "            os.makedirs(backupdir)\n",
    "            for file in log_files:\n",
    "                shutil.move(file, backupdir)\n",
    "                print(\"Moving log file {} to {}\".format(file, backupdir))\n",
    "\n",
    "\n"
   ],
   "metadata": {
    "collapsed": false,
    "pycharm": {
     "name": "#%%\n",
     "is_executing": false
    }
   }
  },
  {
   "cell_type": "code",
   "execution_count": 1,
   "outputs": [
    {
     "name": "stdout",
     "text": [
      "7.9788456\n"
     ],
     "output_type": "stream"
    },
    {
     "data": {
      "text/plain": "<Figure size 720x720 with 1 Axes>",
      "image/png": "[encoded data removed]"
     },
     "metadata": {
      "needs_background": "light"
     },
     "output_type": "display_data"
    },
    {
     "data": {
      "text/plain": "<Figure size 720x720 with 1 Axes>",
      "image/png": "[encoded data removed]"
     },
     "metadata": {
      "needs_background": "light"
     },
     "output_type": "display_data"
    },
    {
     "data": {
      "text/plain": "<Figure size 720x720 with 1 Axes>",
      "image/png": "[encoded data removed]"
     },
     "metadata": {
      "needs_background": "light"
     },
     "output_type": "display_data"
    }
   ],
   "source": [
    "import numpy as np\n",
    "import matplotlib.pyplot as plt\n",
    "def eukl_distance(distance_x, distance_y):\n",
    "    return np.sqrt(np.square(distance_x) + np.square(distance_y))\n",
    "\n",
    "\n",
    "def gaussian(x, mu, sig):\n",
    "    value = np.exp(-np.power(x - mu, 2.) / (2 * np.power(sig, 2.)))\n",
    "    return value\n",
    "\n",
    "\n",
    "pts = np.array([\n",
    "        [100, 100],\n",
    "        [1, 2],\n",
    "        [3, 4]\n",
    "], dtype = np.float32)\n",
    "map_height, map_width = 224, 224\n",
    "sigma = 0.05\n",
    "normalize = True\n",
    "conf_maps = np.zeros(shape=(pts.shape[0], map_height, map_width), dtype=np.float32)\n",
    "for i, pt in enumerate(pts):\n",
    "    x, y = pt\n",
    "    for xv in range(map_width):\n",
    "        for yv in range(map_height):\n",
    "\n",
    "            distance = eukl_distance((x - xv) / map_width, (y - yv) / map_height)\n",
    "            value = gaussian(distance, mu=0, sig=sigma)\n",
    "            conf_maps[i, yv, xv] = value\n",
    "if normalize:\n",
    "    conf_maps = conf_maps / (sigma * np.sqrt(2 * np.pi))\n",
    "    \n",
    "for conf in conf_maps:\n",
    "    fig = plt.figure(figsize = (10, 10))\n",
    "    ax = fig.add_subplot(111)\n",
    "    ax.imshow(conf)\n",
    "print(conf_maps.max())"
   ],
   "metadata": {
    "collapsed": false,
    "pycharm": {
     "name": "#%%\n",
     "is_executing": false
    }
   }
  },
  {
   "cell_type": "code",
   "execution_count": 13,
   "outputs": [
    {
     "name": "stdout",
     "text": [
      "0.07978845608028655\n"
     ],
     "output_type": "stream"
    },
    {
     "data": {
      "text/plain": "<Figure size 432x288 with 1 Axes>",
      "image/png": "[encoded data removed]"
     },
     "metadata": {
      "needs_background": "light"
     },
     "output_type": "display_data"
    },
    {
     "data": {
      "text/plain": "<Figure size 432x288 with 1 Axes>",
      "image/png": "[encoded data removed]"
     },
     "metadata": {
      "needs_background": "light"
     },
     "output_type": "display_data"
    },
    {
     "data": {
      "text/plain": "<Figure size 432x288 with 1 Axes>",
      "image/png": "[encoded data removed]"
     },
     "metadata": {
      "needs_background": "light"
     },
     "output_type": "display_data"
    }
   ],
   "source": [
    "import tensorflow as tf\n",
    "import tensorflow_probability as tfp\n",
    "\n",
    "def gaussian_kernel(size: int, mean: float, std: float, ):\n",
    "    d = tfp.distributions.Normal(mean, std)\n",
    "    vals = d.prob(tf.range(start = -size, limit = size + 1, dtype = tf.dtypes.float32))\n",
    "    gauss_kernel = tf.einsum('i,j->ij', vals, vals)\n",
    "    return gauss_kernel / tf.reduce_sum(gauss_kernel)\n",
    "\n",
    "conf_maps_2 = np.zeros(shape = [map_height, map_width, pts.shape[0]], dtype=np.float32)\n",
    "conf_maps_2[pts[:, 1], pts[:, 0], :] = 1.0\n",
    "gauss_kernel = gaussian_kernel(sigma, 0.0, 5.0)\n",
    "gauss_kernel = gauss_kernel[:, :, tf.newaxis, tf.newaxis]\n",
    "gauss_kernel = tf.keras.backend.repeat_elements(gauss_kernel, pts.shape[0], axis=3)\n",
    "conf_maps_2 = tf.expand_dims(conf_maps_2, 0)\n",
    "conf_maps_2 = tf.nn.conv2d(conf_maps_2, gauss_kernel, strides=[1,1,1,1], padding='SAME')\n",
    "conf_maps_2 = tf.squeeze(conf_maps_2, axis=0)\n",
    "\n",
    "if normalize:\n",
    "    conf_maps_2 = conf_maps_2 / (sigma * np.sqrt(2 * np.pi))\n",
    "    \n",
    "for i in range(conf_maps_2.shape[2]):\n",
    "    fig = plt.figure()\n",
    "    ax = fig.add_subplot(111)\n",
    "    ax.imshow(conf_maps_2[:,:,i])\n",
    "print(conf_maps.max())\n"
   ],
   "metadata": {
    "collapsed": false,
    "pycharm": {
     "name": "#%%\n",
     "is_executing": false
    }
   }
  },
  {
   "cell_type": "code",
   "execution_count": 3,
   "outputs": [
    {
     "name": "stdout",
     "text": [
      "0.03183099\n"
     ],
     "output_type": "stream"
    },
    {
     "data": {
      "text/plain": "<Figure size 432x288 with 1 Axes>",
      "image/png": "[encoded data removed]"
     },
     "metadata": {
      "needs_background": "light"
     },
     "output_type": "display_data"
    }
   ],
   "source": [
    "import numpy as np\n",
    "import tensorflow as tf\n",
    "from scipy.stats import multivariate_normal\n",
    "import matplotlib.pyplot as plt\n",
    "\n",
    "map_height = 224\n",
    "map_width = 224\n",
    "pt = [110, 150]\n",
    "sigma = 5\n",
    "x,y = pt\n",
    "conf_maps = np.zeros(\n",
    "    shape = (1, int(map_height), int(map_width)),\n",
    "    dtype = np.float32)\n",
    "pos = np.dstack(np.mgrid[0:map_height:1, 0:map_width:1])\n",
    "rv = multivariate_normal(mean = [x, y], cov = sigma)\n",
    "conf_maps[0] = rv.pdf(pos)\n",
    "for i in range(conf_maps.shape[0]):\n",
    "    fig = plt.figure()\n",
    "    ax = fig.add_subplot(111)\n",
    "    ax.imshow(conf_maps[i,:,:])\n",
    "print(conf_maps.max())"
   ],
   "metadata": {
    "collapsed": false,
    "pycharm": {
     "name": "#%%\n",
     "is_executing": false
    }
   }
  },
  {
   "cell_type": "code",
   "execution_count": 8,
   "outputs": [
    {
     "name": "stdout",
     "text": [
      "tf.Tensor([ 15 150 210], shape=(3,), dtype=int64)\n",
      "tf.Tensor([ 10 100 200], shape=(3,), dtype=int64)\n",
      "tf.Tensor(\n",
      "[[ 10  15]\n",
      " [100 150]\n",
      " [200 210]], shape=(3, 2), dtype=int64)\n",
      "tf.Tensor([ 18.027756 180.27756  290.      ], shape=(3,), dtype=float32)\n",
      "tf.Tensor(\n",
      "[[ 15 150 210]\n",
      " [ 15 150 210]\n",
      " [ 15 150 210]], shape=(3, 3), dtype=int64)\n",
      "tf.Tensor(\n",
      "[[ 10 100 200]\n",
      " [ 10 100 200]\n",
      " [ 10 100 200]], shape=(3, 3), dtype=int64)\n",
      "tf.Tensor(\n",
      "[[[ 10.  15.]\n",
      "  [100. 150.]\n",
      "  [200. 210.]]\n",
      "\n",
      " [[ 10.  15.]\n",
      "  [100. 150.]\n",
      "  [200. 210.]]\n",
      "\n",
      " [[ 10.  15.]\n",
      "  [100. 150.]\n",
      "  [200. 210.]]], shape=(3, 3, 2), dtype=float32)\n",
      "tf.Tensor(\n",
      "[[ 10.  15.]\n",
      " [100. 150.]\n",
      " [200. 210.]], shape=(3, 2), dtype=float32)\n"
     ],
     "output_type": "stream"
    }
   ],
   "source": [
    "import numpy as np\n",
    "import tensorflow as tf\n",
    "\n",
    "mat = np.zeros(shape = (224, 224, 3), dtype = np.float32)\n",
    "mat[10, 15, 0] = 1\n",
    "mat[100, 150, 1] = 1\n",
    "mat[200, 210, 2] = 1\n",
    "\n",
    "\n",
    "mat = tf.convert_to_tensor(mat)\n",
    "\n",
    "maxy = tf.argmax(tf.argmax(mat, 1), 0)\n",
    "maxx = tf.argmax(tf.argmax(mat, 0), 0)\n",
    "maxs = tf.stack([maxy, maxx], axis = 1)\n",
    "print(maxx)\n",
    "print(maxy)\n",
    "print(maxs)\n",
    "maxs = tf.cast(maxs, dtype = tf.dtypes.float32)\n",
    "print(tf.norm(maxs, axis=1))\n",
    "\n",
    "mat = tf.stack([mat, mat, mat], axis = 0)\n",
    "maxy = tf.argmax(tf.argmax(mat, 2), 1)\n",
    "maxx = tf.argmax(tf.argmax(mat, 1), 1)\n",
    "maxs = tf.stack([maxy, maxx], axis = 2)\n",
    "maxs = tf.cast(maxs, dtype = tf.dtypes.float32)\n",
    "print(maxx)\n",
    "print(maxy)\n",
    "print(maxs)\n",
    "\n",
    "mean = tf.reduce_mean(maxs, axis = 0)\n",
    "print(mean)"
   ],
   "metadata": {
    "collapsed": false,
    "pycharm": {
     "name": "#%%\n",
     "is_executing": false
    }
   }
  }
 ],
 "metadata": {
  "kernelspec": {
   "display_name": "Python 3",
   "language": "python",
   "name": "python3"
  },
  "language_info": {
   "codemirror_mode": {
    "name": "ipython",
    "version": 3
   },
   "file_extension": ".py",
   "mimetype": "text/x-python",
   "name": "python",
   "nbconvert_exporter": "python",
   "pygments_lexer": "ipython3",
   "version": "3.7.5"
  },
  "pycharm": {
   "stem_cell": {
    "cell_type": "raw",
    "source": [],
    "metadata": {
     "collapsed": false
    }
   }
  }
 },
 "nbformat": 4,
 "nbformat_minor": 2
}