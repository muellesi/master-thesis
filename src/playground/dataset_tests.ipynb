{
 "cells": [
  {
   "cell_type": "code",
   "execution_count": 60,
   "metadata": {
    "collapsed": true,
    "pycharm": {
     "is_executing": false
    }
   },
   "outputs": [],
   "source": [
    "import tools\n",
    "import tensorflow as tf\n",
    "import numpy as np\n",
    "import cv2"
   ]
  },
  {
   "cell_type": "code",
   "execution_count": 61,
   "outputs": [],
   "source": [
    "def prepare_dataset(ds):\n",
    "    return ds.map(\n",
    "            lambda img, skel: (tf.image.resize(img, tf.constant([128, 128], dtype=tf.dtypes.int32)), skel),\n",
    "            num_parallel_calls=tf.data.experimental.AUTOTUNE).map(\n",
    "            lambda img, skel: (tf.cast(img, dtype=tf.float32) / tf.constant(5000.0, dtype=tf.float32),\n",
    "                               (skel + tf.constant(750.0, dtype=tf.float32)) / tf.constant(1500.0, dtype=tf.float32)))\n",
    "\n",
    "\n",
    "def augment_pose_dataset(ds):\n",
    "    ds = ds.map(tools.pose_augmentation.flip_randomly, num_parallel_calls=tf.data.experimental.AUTOTUNE)\n",
    "    return ds\n"
   ],
   "metadata": {
    "collapsed": false,
    "pycharm": {
     "name": "#%%\n",
     "is_executing": false
    }
   }
  },
  {
   "cell_type": "code",
   "execution_count": 62,
   "outputs": [],
   "source": [
    "pose_batch_size=128"
   ],
   "metadata": {
    "collapsed": false,
    "pycharm": {
     "name": "#%%\n",
     "is_executing": false
    }
   }
  },
  {
   "cell_type": "code",
   "execution_count": 63,
   "outputs": [],
   "source": [
    "dataset_source = 'MSRA'\n",
    "\n",
    "pose_train_data_dir = {\n",
    "        'FHAD': r\"E:\\MasterDaten\\Datasets\\FHAD\",\n",
    "        'NYU': r\"G:\\master_thesis_data\\Datasets\\nyu\\nyu_hand_dataset_v2\\dataset\",\n",
    "        'MSRA': r\"E:\\MasterDaten\\Datasets\\cvpr15_MSRAHandGestureDB\"\n",
    "        }\n",
    "pose_train_data_dir = pose_train_data_dir[dataset_source]\n",
    "\n",
    "if dataset_source == 'NYU':\n",
    "    from tools import NYU as selected_dataset\n",
    "elif dataset_source == 'FHAD':\n",
    "    from tools import FHAD as selected_dataset\n",
    "elif dataset_source == 'MSRA':\n",
    "    from tools import MSRA as selected_dataset\n",
    "    \n",
    "_,_,hand_pose_dataset = selected_dataset.get_dataset(pose_train_data_dir)\n",
    "hand_pose_dataset = augment_pose_dataset(hand_pose_dataset)\n",
    "hand_pose_dataset = prepare_dataset(hand_pose_dataset)\n",
    "hand_pose_dataset = hand_pose_dataset.shuffle(pose_batch_size * 10)\n",
    "hand_pose_dataset = hand_pose_dataset.batch(batch_size=pose_batch_size).prefetch(tf.data.experimental.AUTOTUNE)"
   ],
   "metadata": {
    "collapsed": false,
    "pycharm": {
     "name": "#%%\n",
     "is_executing": false
    }
   }
  },
  {
   "cell_type": "code",
   "execution_count": 64,
   "outputs": [
    {
     "name": "stdout",
     "text": [
      "Count: 100  img_max: 0.10615000128746033  img_min: 0  img_mean: 0.0033903351862623232  skel_max: 0.6247473359107971  skel_min: 0  skel_mean: 0.42843325872613924\n",
      "Count: 200  img_max: 0.15527500212192535  img_min: 0  img_mean: 0.0032214938754206476  skel_max: 0.6903733611106873  skel_min: 0  skel_mean: 0.42277987683238705\n",
      "Count: 300  img_max: 0.15527500212192535  img_min: 0  img_mean: 0.0030286661948834273  skel_max: 0.6903733611106873  skel_min: 0  skel_mean: 0.419412275122161\n",
      "Count: 399  img_max: 0.15527500212192535  img_min: 0  img_mean: 0.003044600284953213  skel_max: 0.6903733611106873  skel_min: 0  skel_mean: 0.42203570071177277\n"
     ],
     "output_type": "stream"
    }
   ],
   "source": [
    "img_max = 0\n",
    "img_min = 0\n",
    "skel_max = 0\n",
    "skel_min = 0\n",
    "img_mean = 0\n",
    "skel_mean = 0\n",
    "cnt = 1\n",
    "\n",
    "for img, skel in hand_pose_dataset:\n",
    "    img = img.numpy()\n",
    "    skel = skel.numpy()\n",
    "    \n",
    "    img_max_curr = img.max()\n",
    "    img_min_curr = img.min()\n",
    "    skel_max_curr = skel.max()\n",
    "    skel_min_curr = skel.min()\n",
    "    \n",
    "    if img_max_curr > img_max:\n",
    "        img_max = img_max_curr\n",
    "    if img_min_curr < img_min:\n",
    "        img_min = img_min_curr\n",
    "        \n",
    "    if skel_max_curr > skel_max:\n",
    "        skel_max = skel_max_curr\n",
    "    if skel_min_curr < skel_min:\n",
    "        skel_min = skel_min_curr\n",
    "        \n",
    "    skel_mean = ((cnt-1) * skel_mean + skel.mean()) / cnt\n",
    "    img_mean = ((cnt-1) * img_mean + img.mean()) / cnt\n",
    "\n",
    "    cnt += 1\n",
    "    \n",
    "    if cnt % 100 == 0:\n",
    "        print(\"Count: {}  img_max: {}  img_min: {}  img_mean: {}  skel_max: {}  skel_min: {}  skel_mean: {}\".format(\n",
    "                cnt, img_max, img_min, img_mean, skel_max, skel_min, skel_mean\n",
    "        ))\n",
    "\n",
    "\n",
    "print(\"Count: {}  img_max: {}  img_min: {}  img_mean: {}  skel_max: {}  skel_min: {}  skel_mean: {}\".format(\n",
    "        cnt, img_max, img_min, img_mean, skel_max, skel_min, skel_mean\n",
    "))"
   ],
   "metadata": {
    "collapsed": false,
    "pycharm": {
     "name": "#%%\n",
     "is_executing": false
    }
   }
  }
 ],
 "metadata": {
  "kernelspec": {
   "display_name": "Python 3",
   "language": "python",
   "name": "python3"
  },
  "language_info": {
   "codemirror_mode": {
    "name": "ipython",
    "version": 2
   },
   "file_extension": ".py",
   "mimetype": "text/x-python",
   "name": "python",
   "nbconvert_exporter": "python",
   "pygments_lexer": "ipython2",
   "version": "2.7.6"
  },
  "pycharm": {
   "stem_cell": {
    "cell_type": "raw",
    "source": [],
    "metadata": {
     "collapsed": false
    }
   }
  }
 },
 "nbformat": 4,
 "nbformat_minor": 0
}