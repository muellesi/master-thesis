{
 "cells": [
  {
   "cell_type": "code",
   "execution_count": 5,
   "metadata": {
    "collapsed": true,
    "pycharm": {
     "is_executing": false
    }
   },
   "outputs": [],
   "source": [
    "import tensorflow as tf"
   ]
  },
  {
   "cell_type": "code",
   "execution_count": 6,
   "outputs": [
    {
     "name": "stdout",
     "text": [
      "Model: \"sequential\"\n_________________________________________________________________\nLayer (type)                 Output Shape              Param #   \n=================================================================\nmobilenetv2_1.00_250 (Model) (None, 8, 8, 1280)        2257408   \n_________________________________________________________________\nflatten (Flatten)            (None, 81920)             0         \n_________________________________________________________________\ndense (Dense)                (None, 2048)              167774208 \n_________________________________________________________________\nactivation (Activation)      (None, 2048)              0         \n_________________________________________________________________\ndense_1 (Dense)              (None, 1024)              2098176   \n_________________________________________________________________\nactivation_1 (Activation)    (None, 1024)              0         \n_________________________________________________________________\ndense_2 (Dense)              (None, 63)                64575     \n=================================================================\nTotal params: 172,194,367\nTrainable params: 172,160,255\nNon-trainable params: 34,112\n_________________________________________________________________\n"
     ],
     "output_type": "stream"
    }
   ],
   "source": [
    "path = \"E:\\\\MasterDaten\\\\Results\\\\pose_est\\\\checkpoints\\\\pose_est_weights.07.hdf5\"\n",
    "model = tf.keras.models.load_model(path)\n",
    "model.summary()"
   ],
   "metadata": {
    "collapsed": false,
    "pycharm": {
     "name": "#%%\n",
     "is_executing": false
    }
   }
  }
 ],
 "metadata": {
  "kernelspec": {
   "display_name": "Python 3",
   "language": "python",
   "name": "python3"
  },
  "language_info": {
   "codemirror_mode": {
    "name": "ipython",
    "version": 2
   },
   "file_extension": ".py",
   "mimetype": "text/x-python",
   "name": "python",
   "nbconvert_exporter": "python",
   "pygments_lexer": "ipython2",
   "version": "2.7.6"
  },
  "pycharm": {
   "stem_cell": {
    "cell_type": "raw",
    "source": [],
    "metadata": {
     "collapsed": false
    }
   }
  }
 },
 "nbformat": 4,
 "nbformat_minor": 0
}