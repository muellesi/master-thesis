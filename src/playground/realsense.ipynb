{
 "cells": [
  {
   "cell_type": "code",
   "execution_count": 1,
   "metadata": {
    "collapsed": true,
    "pycharm": {
     "is_executing": false
    }
   },
   "outputs": [
    {
     "name": "stdout",
     "text": [
      "Configuration E:\\Google Drive\\UNI\\Master\\Thesis\\src\\realsense_settings.json loaded\n",
      "Advanced mode is enabled\n",
      "[[383.65588379   0.         317.15475464]\n [  0.         383.65588379 240.11094666]\n [  0.           0.           1.        ]]\n"
     ],
     "output_type": "stream"
    }
   ],
   "source": [
    "import tools\n",
    "\n",
    "cam = tools.RealsenseCamera({\"file\": \"E:\\\\Google Drive\\\\UNI\\Master\\\\Thesis\\\\src\\\\realsense_settings.json\"})\n",
    "cam.autocycle_stream(\"viridis\", 300)\n",
    "print(cam.get_current_intrinsics())\n",
    "del cam"
   ]
  }
 ],
 "metadata": {
  "kernelspec": {
   "display_name": "Python 3",
   "language": "python",
   "name": "python3"
  },
  "language_info": {
   "codemirror_mode": {
    "name": "ipython",
    "version": 2
   },
   "file_extension": ".py",
   "mimetype": "text/x-python",
   "name": "python",
   "nbconvert_exporter": "python",
   "pygments_lexer": "ipython2",
   "version": "2.7.6"
  },
  "pycharm": {
   "stem_cell": {
    "cell_type": "raw",
    "source": [],
    "metadata": {
     "collapsed": false
    }
   }
  }
 },
 "nbformat": 4,
 "nbformat_minor": 0
}